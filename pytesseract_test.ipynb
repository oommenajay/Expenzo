{
 "cells": [
  {
   "cell_type": "code",
   "execution_count": 23,
   "id": "ec93c1b3",
   "metadata": {},
   "outputs": [],
   "source": [
    "import pytesseract\n",
    "from PIL import Image"
   ]
  },
  {
   "cell_type": "code",
   "execution_count": 15,
   "id": "0494afb8",
   "metadata": {},
   "outputs": [],
   "source": [
    "pytesseract.pytesseract.tesseract_cmd = r'C:\\Program Files\\Tesseract-OCR\\tesseract.exe'\n"
   ]
  },
  {
   "cell_type": "code",
   "execution_count": 16,
   "id": "9529c677",
   "metadata": {},
   "outputs": [],
   "source": [
    "import cv2"
   ]
  },
  {
   "cell_type": "code",
   "execution_count": 42,
   "id": "147f2b48",
   "metadata": {},
   "outputs": [],
   "source": [
    "def preprocess_image(image_path):\n",
    "    # Load the image\n",
    "    image = cv2.imread(image_path)\n",
    "    \n",
    "    # Resize the image\n",
    "    resized_image = cv2.resize(image, (0, 0), fx=0.5, fy=0.5)\n",
    "    \n",
    "    # Convert the image to grayscale\n",
    "    grayscale_image = cv2.cvtColor(resized_image, cv2.COLOR_BGR2GRAY)\n",
    "    \n",
    "    # Apply thresholding\n",
    "    _, thresholded_image = cv2.threshold(grayscale_image, 0, 255, cv2.THRESH_BINARY + cv2.THRESH_OTSU)\n",
    "    \n",
    "    # Apply Gaussian blur for noise reduction\n",
    "    blurred_image = cv2.GaussianBlur(thresholded_image, (3, 3), 0)\n",
    "    \n",
    "    # Enhance contrast using histogram equalization\n",
    "    equalized_image = cv2.equalizeHist(blurred_image)\n",
    "    \n",
    "    return equalized_image"
   ]
  },
  {
   "cell_type": "code",
   "execution_count": 43,
   "id": "b9fdf811",
   "metadata": {},
   "outputs": [],
   "source": [
    "img_path=r'C:\\Users\\HP\\OneDrive\\Desktop\\Sample-Invoice-printable.png'\n",
    "preprocessed_image=preprocess_image(img_path)\n",
    "img = cv2.imread(r'C:\\Users\\HP\\OneDrive\\Desktop\\Sample-Invoice-printable.png')"
   ]
  },
  {
   "cell_type": "code",
   "execution_count": 47,
   "id": "276ce0f7",
   "metadata": {},
   "outputs": [],
   "source": [
    "cv2.imshow('preprocessed image',img)\n",
    "cv2.waitKey(0)\n",
    "cv2.destroyAllWindows()"
   ]
  },
  {
   "cell_type": "code",
   "execution_count": 48,
   "id": "c4c5bd84",
   "metadata": {},
   "outputs": [],
   "source": [
    "text=pytesseract.image_to_string(img)"
   ]
  },
  {
   "cell_type": "code",
   "execution_count": 49,
   "id": "317d3965",
   "metadata": {},
   "outputs": [
    {
     "name": "stdout",
     "output_type": "stream",
     "text": [
      "Stanford Plumbing & Heating\n",
      "123 Madison drive, Seat, WA, 78290\n",
      "\n",
      "‘www plumbingstanfordcom\n",
      "\n",
      "00-1204500\n",
      "\n",
      "Allen Smith\n",
      "{57 Private st Seattle, WA\n",
      "\n",
      "‘alen@gmai.com\n",
      "90302-1898\n",
      "\n",
      "‘nstaled new khan snk hours)\n",
      "\n",
      "“oio snk\n",
      "\n",
      "Worcester geensar magnet sytem iter\n",
      "‘Nestemar tharostat\n",
      "\n",
      "Tank you for your business!\n",
      "\n",
      "lease pay win 20 days by PayPal Gobetanfrdplumbing.com)\n",
      "Insta products have S yar waren,\n",
      "\n",
      "INVOICE\n",
      "\n",
      "anwar ‘UN PRICE\n",
      "\n",
      "Balance Due $2,844.80\n",
      "\n"
     ]
    }
   ],
   "source": [
    "print(text)"
   ]
  },
  {
   "cell_type": "code",
   "execution_count": 32,
   "id": "1d2ebab4",
   "metadata": {},
   "outputs": [],
   "source": [
    "import re\n",
    "\n",
    "def extract_date(text):\n",
    "    # Regular expression pattern to match dates in the format MM/DD/YYYY\n",
    "    date_pattern = r'\\d{2}/\\d{2}/\\d{4}'\n",
    "    \n",
    "    # Search for the date pattern in the text\n",
    "    match = re.search(date_pattern, text)\n",
    "    \n",
    "    if match:\n",
    "        return match.group(0)\n",
    "    else:\n",
    "        return None"
   ]
  },
  {
   "cell_type": "code",
   "execution_count": 36,
   "id": "128ab587",
   "metadata": {},
   "outputs": [],
   "source": [
    "text = \"Invoice Date: 01/15/2023\"\n"
   ]
  },
  {
   "cell_type": "code",
   "execution_count": 37,
   "id": "3f290384",
   "metadata": {},
   "outputs": [],
   "source": [
    "data ={\n",
    "'date': extract_date(text),\n",
    "}"
   ]
  },
  {
   "cell_type": "code",
   "execution_count": 38,
   "id": "a893f8ed",
   "metadata": {},
   "outputs": [
    {
     "name": "stdout",
     "output_type": "stream",
     "text": [
      "{'date': '01/15/2023'}\n"
     ]
    }
   ],
   "source": [
    "print(data)"
   ]
  }
 ],
 "metadata": {},
 "nbformat": 4,
 "nbformat_minor": 5
}
